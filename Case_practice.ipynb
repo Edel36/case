{
 "cells": [
  {
   "cell_type": "code",
   "execution_count": 2,
   "id": "e03e1c75",
   "metadata": {},
   "outputs": [
    {
     "data": {
      "text/html": [
       "<div>\n",
       "<style scoped>\n",
       "    .dataframe tbody tr th:only-of-type {\n",
       "        vertical-align: middle;\n",
       "    }\n",
       "\n",
       "    .dataframe tbody tr th {\n",
       "        vertical-align: top;\n",
       "    }\n",
       "\n",
       "    .dataframe thead th {\n",
       "        text-align: right;\n",
       "    }\n",
       "</style>\n",
       "<table border=\"1\" class=\"dataframe\">\n",
       "  <thead>\n",
       "    <tr style=\"text-align: right;\">\n",
       "      <th></th>\n",
       "      <th>user_id</th>\n",
       "      <th>group</th>\n",
       "    </tr>\n",
       "  </thead>\n",
       "  <tbody>\n",
       "    <tr>\n",
       "      <th>0</th>\n",
       "      <td>VX6NLA-F5YMSW</td>\n",
       "      <td>control</td>\n",
       "    </tr>\n",
       "    <tr>\n",
       "      <th>1</th>\n",
       "      <td>2AXN3D-71ZN86</td>\n",
       "      <td>test</td>\n",
       "    </tr>\n",
       "    <tr>\n",
       "      <th>2</th>\n",
       "      <td>K78V3J-TQMV6F</td>\n",
       "      <td>test</td>\n",
       "    </tr>\n",
       "    <tr>\n",
       "      <th>3</th>\n",
       "      <td>Z2KEIG-LY3V4H</td>\n",
       "      <td>test</td>\n",
       "    </tr>\n",
       "    <tr>\n",
       "      <th>4</th>\n",
       "      <td>ND92RZ-SHG980</td>\n",
       "      <td>control</td>\n",
       "    </tr>\n",
       "    <tr>\n",
       "      <th>...</th>\n",
       "      <td>...</td>\n",
       "      <td>...</td>\n",
       "    </tr>\n",
       "    <tr>\n",
       "      <th>8639995</th>\n",
       "      <td>SCIQGB-VYD7YG</td>\n",
       "      <td>test</td>\n",
       "    </tr>\n",
       "    <tr>\n",
       "      <th>8639996</th>\n",
       "      <td>T4PH1E-0FS4DN</td>\n",
       "      <td>test</td>\n",
       "    </tr>\n",
       "    <tr>\n",
       "      <th>8639997</th>\n",
       "      <td>YTXXO7-UEM0CT</td>\n",
       "      <td>test</td>\n",
       "    </tr>\n",
       "    <tr>\n",
       "      <th>8639998</th>\n",
       "      <td>011P6E-A3WXVH</td>\n",
       "      <td>test</td>\n",
       "    </tr>\n",
       "    <tr>\n",
       "      <th>8639999</th>\n",
       "      <td>439YCZ-QM3U7F</td>\n",
       "      <td>test</td>\n",
       "    </tr>\n",
       "  </tbody>\n",
       "</table>\n",
       "<p>8640000 rows × 2 columns</p>\n",
       "</div>"
      ],
      "text/plain": [
       "               user_id    group\n",
       "0        VX6NLA-F5YMSW  control\n",
       "1        2AXN3D-71ZN86     test\n",
       "2        K78V3J-TQMV6F     test\n",
       "3        Z2KEIG-LY3V4H     test\n",
       "4        ND92RZ-SHG980  control\n",
       "...                ...      ...\n",
       "8639995  SCIQGB-VYD7YG     test\n",
       "8639996  T4PH1E-0FS4DN     test\n",
       "8639997  YTXXO7-UEM0CT     test\n",
       "8639998  011P6E-A3WXVH     test\n",
       "8639999  439YCZ-QM3U7F     test\n",
       "\n",
       "[8640000 rows x 2 columns]"
      ]
     },
     "execution_count": 2,
     "metadata": {},
     "output_type": "execute_result"
    }
   ],
   "source": [
    "import pandas as pd\n",
    "import numpy as np\n",
    "import matplotlib.pyplot as plt\n",
    "import seaborn as sns\n",
    "from scipy.stats import kurtosis\n",
    "from scipy.stats import skew\n",
    "from scipy import stats\n",
    "\n",
    "df1 = pd.read_csv('ABgroup.csv')\n",
    "df1"
   ]
  },
  {
   "cell_type": "code",
   "execution_count": 3,
   "id": "91f73ceb",
   "metadata": {},
   "outputs": [
    {
     "data": {
      "text/html": [
       "<div>\n",
       "<style scoped>\n",
       "    .dataframe tbody tr th:only-of-type {\n",
       "        vertical-align: middle;\n",
       "    }\n",
       "\n",
       "    .dataframe tbody tr th {\n",
       "        vertical-align: top;\n",
       "    }\n",
       "\n",
       "    .dataframe thead th {\n",
       "        text-align: right;\n",
       "    }\n",
       "</style>\n",
       "<table border=\"1\" class=\"dataframe\">\n",
       "  <thead>\n",
       "    <tr style=\"text-align: right;\">\n",
       "      <th></th>\n",
       "      <th>user_id</th>\n",
       "      <th>platform</th>\n",
       "    </tr>\n",
       "  </thead>\n",
       "  <tbody>\n",
       "    <tr>\n",
       "      <th>0</th>\n",
       "      <td>NHFL0F-Y90OSH</td>\n",
       "      <td>XBox</td>\n",
       "    </tr>\n",
       "    <tr>\n",
       "      <th>1</th>\n",
       "      <td>MVPNHS-PBHB8S</td>\n",
       "      <td>XBox</td>\n",
       "    </tr>\n",
       "    <tr>\n",
       "      <th>2</th>\n",
       "      <td>1UWMRN-8NVCLI</td>\n",
       "      <td>PC</td>\n",
       "    </tr>\n",
       "    <tr>\n",
       "      <th>3</th>\n",
       "      <td>EHO5II-03X9PU</td>\n",
       "      <td>PS4</td>\n",
       "    </tr>\n",
       "    <tr>\n",
       "      <th>4</th>\n",
       "      <td>7C5ZAE-D1NCY9</td>\n",
       "      <td>XBox</td>\n",
       "    </tr>\n",
       "    <tr>\n",
       "      <th>...</th>\n",
       "      <td>...</td>\n",
       "      <td>...</td>\n",
       "    </tr>\n",
       "    <tr>\n",
       "      <th>8639995</th>\n",
       "      <td>EYD4LR-O1YYTX</td>\n",
       "      <td>PS4</td>\n",
       "    </tr>\n",
       "    <tr>\n",
       "      <th>8639996</th>\n",
       "      <td>J0MR5W-GAGC66</td>\n",
       "      <td>XBox</td>\n",
       "    </tr>\n",
       "    <tr>\n",
       "      <th>8639997</th>\n",
       "      <td>Z0EL54-J3BZC4</td>\n",
       "      <td>PS4</td>\n",
       "    </tr>\n",
       "    <tr>\n",
       "      <th>8639998</th>\n",
       "      <td>B5FT8W-AR75PV</td>\n",
       "      <td>PC</td>\n",
       "    </tr>\n",
       "    <tr>\n",
       "      <th>8639999</th>\n",
       "      <td>9PL6ZA-40IW97</td>\n",
       "      <td>PC</td>\n",
       "    </tr>\n",
       "  </tbody>\n",
       "</table>\n",
       "<p>8640000 rows × 2 columns</p>\n",
       "</div>"
      ],
      "text/plain": [
       "               user_id platform\n",
       "0        NHFL0F-Y90OSH     XBox\n",
       "1        MVPNHS-PBHB8S     XBox\n",
       "2        1UWMRN-8NVCLI       PC\n",
       "3        EHO5II-03X9PU      PS4\n",
       "4        7C5ZAE-D1NCY9     XBox\n",
       "...                ...      ...\n",
       "8639995  EYD4LR-O1YYTX      PS4\n",
       "8639996  J0MR5W-GAGC66     XBox\n",
       "8639997  Z0EL54-J3BZC4      PS4\n",
       "8639998  B5FT8W-AR75PV       PC\n",
       "8639999  9PL6ZA-40IW97       PC\n",
       "\n",
       "[8640000 rows x 2 columns]"
      ]
     },
     "execution_count": 3,
     "metadata": {},
     "output_type": "execute_result"
    }
   ],
   "source": [
    "df2 = pd.read_csv('Platforms.csv')\n",
    "df2"
   ]
  },
  {
   "cell_type": "code",
   "execution_count": 4,
   "id": "75fcfa89",
   "metadata": {},
   "outputs": [
    {
     "data": {
      "text/html": [
       "<div>\n",
       "<style scoped>\n",
       "    .dataframe tbody tr th:only-of-type {\n",
       "        vertical-align: middle;\n",
       "    }\n",
       "\n",
       "    .dataframe tbody tr th {\n",
       "        vertical-align: top;\n",
       "    }\n",
       "\n",
       "    .dataframe thead th {\n",
       "        text-align: right;\n",
       "    }\n",
       "</style>\n",
       "<table border=\"1\" class=\"dataframe\">\n",
       "  <thead>\n",
       "    <tr style=\"text-align: right;\">\n",
       "      <th></th>\n",
       "      <th>user_id</th>\n",
       "      <th>date</th>\n",
       "      <th>cash</th>\n",
       "    </tr>\n",
       "  </thead>\n",
       "  <tbody>\n",
       "    <tr>\n",
       "      <th>0</th>\n",
       "      <td>GGLSXL-U5BGGY</td>\n",
       "      <td>17.07.2021</td>\n",
       "      <td>200</td>\n",
       "    </tr>\n",
       "    <tr>\n",
       "      <th>1</th>\n",
       "      <td>DPWFFN-NL3VF8</td>\n",
       "      <td>16.07.2021</td>\n",
       "      <td>150</td>\n",
       "    </tr>\n",
       "    <tr>\n",
       "      <th>2</th>\n",
       "      <td>PASNNG-GVW4RR</td>\n",
       "      <td>11.07.2021</td>\n",
       "      <td>1100</td>\n",
       "    </tr>\n",
       "    <tr>\n",
       "      <th>3</th>\n",
       "      <td>4F0AW7-F40GY9</td>\n",
       "      <td>15.07.2021</td>\n",
       "      <td>1050</td>\n",
       "    </tr>\n",
       "    <tr>\n",
       "      <th>4</th>\n",
       "      <td>CEY6AF-YTSM4V</td>\n",
       "      <td>15.07.2021</td>\n",
       "      <td>150</td>\n",
       "    </tr>\n",
       "    <tr>\n",
       "      <th>...</th>\n",
       "      <td>...</td>\n",
       "      <td>...</td>\n",
       "      <td>...</td>\n",
       "    </tr>\n",
       "    <tr>\n",
       "      <th>8639995</th>\n",
       "      <td>OWJZJH-CNSFHZ</td>\n",
       "      <td>17.07.2021</td>\n",
       "      <td>3150</td>\n",
       "    </tr>\n",
       "    <tr>\n",
       "      <th>8639996</th>\n",
       "      <td>A6ZAWD-VD21JU</td>\n",
       "      <td>15.07.2021</td>\n",
       "      <td>200</td>\n",
       "    </tr>\n",
       "    <tr>\n",
       "      <th>8639997</th>\n",
       "      <td>L9NUIR-HM22U9</td>\n",
       "      <td>15.07.2021</td>\n",
       "      <td>200</td>\n",
       "    </tr>\n",
       "    <tr>\n",
       "      <th>8639998</th>\n",
       "      <td>0A5AY6-NB4ZIS</td>\n",
       "      <td>15.07.2021</td>\n",
       "      <td>200</td>\n",
       "    </tr>\n",
       "    <tr>\n",
       "      <th>8639999</th>\n",
       "      <td>9UT53X-2N05KE</td>\n",
       "      <td>14.07.2021</td>\n",
       "      <td>100</td>\n",
       "    </tr>\n",
       "  </tbody>\n",
       "</table>\n",
       "<p>8640000 rows × 3 columns</p>\n",
       "</div>"
      ],
      "text/plain": [
       "               user_id        date  cash\n",
       "0        GGLSXL-U5BGGY  17.07.2021   200\n",
       "1        DPWFFN-NL3VF8  16.07.2021   150\n",
       "2        PASNNG-GVW4RR  11.07.2021  1100\n",
       "3        4F0AW7-F40GY9  15.07.2021  1050\n",
       "4        CEY6AF-YTSM4V  15.07.2021   150\n",
       "...                ...         ...   ...\n",
       "8639995  OWJZJH-CNSFHZ  17.07.2021  3150\n",
       "8639996  A6ZAWD-VD21JU  15.07.2021   200\n",
       "8639997  L9NUIR-HM22U9  15.07.2021   200\n",
       "8639998  0A5AY6-NB4ZIS  15.07.2021   200\n",
       "8639999  9UT53X-2N05KE  14.07.2021   100\n",
       "\n",
       "[8640000 rows x 3 columns]"
      ]
     },
     "execution_count": 4,
     "metadata": {},
     "output_type": "execute_result"
    }
   ],
   "source": [
    "df3 = pd.read_csv('Cash.csv')\n",
    "df3"
   ]
  },
  {
   "cell_type": "code",
   "execution_count": 5,
   "id": "17e040c6",
   "metadata": {},
   "outputs": [
    {
     "data": {
      "text/html": [
       "<div>\n",
       "<style scoped>\n",
       "    .dataframe tbody tr th:only-of-type {\n",
       "        vertical-align: middle;\n",
       "    }\n",
       "\n",
       "    .dataframe tbody tr th {\n",
       "        vertical-align: top;\n",
       "    }\n",
       "\n",
       "    .dataframe thead th {\n",
       "        text-align: right;\n",
       "    }\n",
       "</style>\n",
       "<table border=\"1\" class=\"dataframe\">\n",
       "  <thead>\n",
       "    <tr style=\"text-align: right;\">\n",
       "      <th></th>\n",
       "      <th>user_id</th>\n",
       "      <th>date</th>\n",
       "      <th>money</th>\n",
       "    </tr>\n",
       "  </thead>\n",
       "  <tbody>\n",
       "    <tr>\n",
       "      <th>0</th>\n",
       "      <td>N4TS2T-P7YTVX</td>\n",
       "      <td>15.07.2021</td>\n",
       "      <td>1.99</td>\n",
       "    </tr>\n",
       "    <tr>\n",
       "      <th>1</th>\n",
       "      <td>NX9S0D-VM20W8</td>\n",
       "      <td>16.07.2021</td>\n",
       "      <td>0.99</td>\n",
       "    </tr>\n",
       "    <tr>\n",
       "      <th>2</th>\n",
       "      <td>QYY6FW-FKHRND</td>\n",
       "      <td>15.07.2021</td>\n",
       "      <td>0.00</td>\n",
       "    </tr>\n",
       "    <tr>\n",
       "      <th>3</th>\n",
       "      <td>BRWH4Y-LPGBU6</td>\n",
       "      <td>14.07.2021</td>\n",
       "      <td>0.00</td>\n",
       "    </tr>\n",
       "    <tr>\n",
       "      <th>4</th>\n",
       "      <td>8O317F-4ASK53</td>\n",
       "      <td>13.07.2021</td>\n",
       "      <td>0.00</td>\n",
       "    </tr>\n",
       "    <tr>\n",
       "      <th>...</th>\n",
       "      <td>...</td>\n",
       "      <td>...</td>\n",
       "      <td>...</td>\n",
       "    </tr>\n",
       "    <tr>\n",
       "      <th>8639995</th>\n",
       "      <td>V2QN9A-KTAB7P</td>\n",
       "      <td>15.07.2021</td>\n",
       "      <td>0.00</td>\n",
       "    </tr>\n",
       "    <tr>\n",
       "      <th>8639996</th>\n",
       "      <td>UH5OG7-7KLM76</td>\n",
       "      <td>14.07.2021</td>\n",
       "      <td>0.99</td>\n",
       "    </tr>\n",
       "    <tr>\n",
       "      <th>8639997</th>\n",
       "      <td>6O1AE8-8AEE55</td>\n",
       "      <td>17.07.2021</td>\n",
       "      <td>0.99</td>\n",
       "    </tr>\n",
       "    <tr>\n",
       "      <th>8639998</th>\n",
       "      <td>33AD2T-TNRERG</td>\n",
       "      <td>12.07.2021</td>\n",
       "      <td>0.99</td>\n",
       "    </tr>\n",
       "    <tr>\n",
       "      <th>8639999</th>\n",
       "      <td>MQBLE4-6ESC3O</td>\n",
       "      <td>14.07.2021</td>\n",
       "      <td>0.00</td>\n",
       "    </tr>\n",
       "  </tbody>\n",
       "</table>\n",
       "<p>8640000 rows × 3 columns</p>\n",
       "</div>"
      ],
      "text/plain": [
       "               user_id        date  money\n",
       "0        N4TS2T-P7YTVX  15.07.2021   1.99\n",
       "1        NX9S0D-VM20W8  16.07.2021   0.99\n",
       "2        QYY6FW-FKHRND  15.07.2021   0.00\n",
       "3        BRWH4Y-LPGBU6  14.07.2021   0.00\n",
       "4        8O317F-4ASK53  13.07.2021   0.00\n",
       "...                ...         ...    ...\n",
       "8639995  V2QN9A-KTAB7P  15.07.2021   0.00\n",
       "8639996  UH5OG7-7KLM76  14.07.2021   0.99\n",
       "8639997  6O1AE8-8AEE55  17.07.2021   0.99\n",
       "8639998  33AD2T-TNRERG  12.07.2021   0.99\n",
       "8639999  MQBLE4-6ESC3O  14.07.2021   0.00\n",
       "\n",
       "[8640000 rows x 3 columns]"
      ]
     },
     "execution_count": 5,
     "metadata": {},
     "output_type": "execute_result"
    }
   ],
   "source": [
    "df4 = pd.read_csv('Money.csv')\n",
    "df4"
   ]
  },
  {
   "cell_type": "code",
   "execution_count": 6,
   "id": "20b9a7a6",
   "metadata": {},
   "outputs": [
    {
     "data": {
      "text/html": [
       "<div>\n",
       "<style scoped>\n",
       "    .dataframe tbody tr th:only-of-type {\n",
       "        vertical-align: middle;\n",
       "    }\n",
       "\n",
       "    .dataframe tbody tr th {\n",
       "        vertical-align: top;\n",
       "    }\n",
       "\n",
       "    .dataframe thead th {\n",
       "        text-align: right;\n",
       "    }\n",
       "</style>\n",
       "<table border=\"1\" class=\"dataframe\">\n",
       "  <thead>\n",
       "    <tr style=\"text-align: right;\">\n",
       "      <th></th>\n",
       "      <th>user_id</th>\n",
       "      <th>cheaters</th>\n",
       "    </tr>\n",
       "  </thead>\n",
       "  <tbody>\n",
       "    <tr>\n",
       "      <th>0</th>\n",
       "      <td>TWLWB9-L19SYJ</td>\n",
       "      <td>0</td>\n",
       "    </tr>\n",
       "    <tr>\n",
       "      <th>1</th>\n",
       "      <td>SD0L4U-1JG4WN</td>\n",
       "      <td>0</td>\n",
       "    </tr>\n",
       "    <tr>\n",
       "      <th>2</th>\n",
       "      <td>QZVG35-P8JKNU</td>\n",
       "      <td>0</td>\n",
       "    </tr>\n",
       "    <tr>\n",
       "      <th>3</th>\n",
       "      <td>S2VBV4-ZKBHI6</td>\n",
       "      <td>0</td>\n",
       "    </tr>\n",
       "    <tr>\n",
       "      <th>4</th>\n",
       "      <td>DDGKMQ-45SP8R</td>\n",
       "      <td>0</td>\n",
       "    </tr>\n",
       "    <tr>\n",
       "      <th>...</th>\n",
       "      <td>...</td>\n",
       "      <td>...</td>\n",
       "    </tr>\n",
       "    <tr>\n",
       "      <th>8639995</th>\n",
       "      <td>YEO1HH-AGE5U0</td>\n",
       "      <td>0</td>\n",
       "    </tr>\n",
       "    <tr>\n",
       "      <th>8639996</th>\n",
       "      <td>E0ZSN1-XK2WFG</td>\n",
       "      <td>0</td>\n",
       "    </tr>\n",
       "    <tr>\n",
       "      <th>8639997</th>\n",
       "      <td>8Q5R71-0BMJDP</td>\n",
       "      <td>0</td>\n",
       "    </tr>\n",
       "    <tr>\n",
       "      <th>8639998</th>\n",
       "      <td>KX15V0-ZJSW8T</td>\n",
       "      <td>0</td>\n",
       "    </tr>\n",
       "    <tr>\n",
       "      <th>8639999</th>\n",
       "      <td>HM5I1V-A0OQK8</td>\n",
       "      <td>0</td>\n",
       "    </tr>\n",
       "  </tbody>\n",
       "</table>\n",
       "<p>8640000 rows × 2 columns</p>\n",
       "</div>"
      ],
      "text/plain": [
       "               user_id  cheaters\n",
       "0        TWLWB9-L19SYJ         0\n",
       "1        SD0L4U-1JG4WN         0\n",
       "2        QZVG35-P8JKNU         0\n",
       "3        S2VBV4-ZKBHI6         0\n",
       "4        DDGKMQ-45SP8R         0\n",
       "...                ...       ...\n",
       "8639995  YEO1HH-AGE5U0         0\n",
       "8639996  E0ZSN1-XK2WFG         0\n",
       "8639997  8Q5R71-0BMJDP         0\n",
       "8639998  KX15V0-ZJSW8T         0\n",
       "8639999  HM5I1V-A0OQK8         0\n",
       "\n",
       "[8640000 rows x 2 columns]"
      ]
     },
     "execution_count": 6,
     "metadata": {},
     "output_type": "execute_result"
    }
   ],
   "source": [
    "df5 = pd.read_csv('Cheaters.csv')\n",
    "df5"
   ]
  },
  {
   "cell_type": "code",
   "execution_count": 7,
   "id": "1b9041e9",
   "metadata": {},
   "outputs": [
    {
     "data": {
      "text/html": [
       "<div>\n",
       "<style scoped>\n",
       "    .dataframe tbody tr th:only-of-type {\n",
       "        vertical-align: middle;\n",
       "    }\n",
       "\n",
       "    .dataframe tbody tr th {\n",
       "        vertical-align: top;\n",
       "    }\n",
       "\n",
       "    .dataframe thead th {\n",
       "        text-align: right;\n",
       "    }\n",
       "</style>\n",
       "<table border=\"1\" class=\"dataframe\">\n",
       "  <thead>\n",
       "    <tr style=\"text-align: right;\">\n",
       "      <th></th>\n",
       "      <th>user_id</th>\n",
       "      <th>cheaters</th>\n",
       "    </tr>\n",
       "  </thead>\n",
       "  <tbody>\n",
       "    <tr>\n",
       "      <th>0</th>\n",
       "      <td>TWLWB9-L19SYJ</td>\n",
       "      <td>0</td>\n",
       "    </tr>\n",
       "    <tr>\n",
       "      <th>1</th>\n",
       "      <td>SD0L4U-1JG4WN</td>\n",
       "      <td>0</td>\n",
       "    </tr>\n",
       "    <tr>\n",
       "      <th>2</th>\n",
       "      <td>QZVG35-P8JKNU</td>\n",
       "      <td>0</td>\n",
       "    </tr>\n",
       "    <tr>\n",
       "      <th>3</th>\n",
       "      <td>S2VBV4-ZKBHI6</td>\n",
       "      <td>0</td>\n",
       "    </tr>\n",
       "    <tr>\n",
       "      <th>4</th>\n",
       "      <td>DDGKMQ-45SP8R</td>\n",
       "      <td>0</td>\n",
       "    </tr>\n",
       "    <tr>\n",
       "      <th>...</th>\n",
       "      <td>...</td>\n",
       "      <td>...</td>\n",
       "    </tr>\n",
       "    <tr>\n",
       "      <th>8639995</th>\n",
       "      <td>YEO1HH-AGE5U0</td>\n",
       "      <td>0</td>\n",
       "    </tr>\n",
       "    <tr>\n",
       "      <th>8639996</th>\n",
       "      <td>E0ZSN1-XK2WFG</td>\n",
       "      <td>0</td>\n",
       "    </tr>\n",
       "    <tr>\n",
       "      <th>8639997</th>\n",
       "      <td>8Q5R71-0BMJDP</td>\n",
       "      <td>0</td>\n",
       "    </tr>\n",
       "    <tr>\n",
       "      <th>8639998</th>\n",
       "      <td>KX15V0-ZJSW8T</td>\n",
       "      <td>0</td>\n",
       "    </tr>\n",
       "    <tr>\n",
       "      <th>8639999</th>\n",
       "      <td>HM5I1V-A0OQK8</td>\n",
       "      <td>0</td>\n",
       "    </tr>\n",
       "  </tbody>\n",
       "</table>\n",
       "<p>8637176 rows × 2 columns</p>\n",
       "</div>"
      ],
      "text/plain": [
       "               user_id  cheaters\n",
       "0        TWLWB9-L19SYJ         0\n",
       "1        SD0L4U-1JG4WN         0\n",
       "2        QZVG35-P8JKNU         0\n",
       "3        S2VBV4-ZKBHI6         0\n",
       "4        DDGKMQ-45SP8R         0\n",
       "...                ...       ...\n",
       "8639995  YEO1HH-AGE5U0         0\n",
       "8639996  E0ZSN1-XK2WFG         0\n",
       "8639997  8Q5R71-0BMJDP         0\n",
       "8639998  KX15V0-ZJSW8T         0\n",
       "8639999  HM5I1V-A0OQK8         0\n",
       "\n",
       "[8637176 rows x 2 columns]"
      ]
     },
     "execution_count": 7,
     "metadata": {},
     "output_type": "execute_result"
    }
   ],
   "source": [
    "df5_clear = df5[df5['cheaters'] < 1]\n",
    "df5_clear"
   ]
  },
  {
   "cell_type": "code",
   "execution_count": 8,
   "id": "5ef3b3bc",
   "metadata": {},
   "outputs": [
    {
     "data": {
      "text/html": [
       "<div>\n",
       "<style scoped>\n",
       "    .dataframe tbody tr th:only-of-type {\n",
       "        vertical-align: middle;\n",
       "    }\n",
       "\n",
       "    .dataframe tbody tr th {\n",
       "        vertical-align: top;\n",
       "    }\n",
       "\n",
       "    .dataframe thead th {\n",
       "        text-align: right;\n",
       "    }\n",
       "</style>\n",
       "<table border=\"1\" class=\"dataframe\">\n",
       "  <thead>\n",
       "    <tr style=\"text-align: right;\">\n",
       "      <th></th>\n",
       "      <th>cash</th>\n",
       "    </tr>\n",
       "  </thead>\n",
       "  <tbody>\n",
       "    <tr>\n",
       "      <th>count</th>\n",
       "      <td>8.640000e+06</td>\n",
       "    </tr>\n",
       "    <tr>\n",
       "      <th>mean</th>\n",
       "      <td>7.634015e+02</td>\n",
       "    </tr>\n",
       "    <tr>\n",
       "      <th>std</th>\n",
       "      <td>8.836145e+02</td>\n",
       "    </tr>\n",
       "    <tr>\n",
       "      <th>min</th>\n",
       "      <td>0.000000e+00</td>\n",
       "    </tr>\n",
       "    <tr>\n",
       "      <th>25%</th>\n",
       "      <td>2.500000e+02</td>\n",
       "    </tr>\n",
       "    <tr>\n",
       "      <th>50%</th>\n",
       "      <td>7.000000e+02</td>\n",
       "    </tr>\n",
       "    <tr>\n",
       "      <th>75%</th>\n",
       "      <td>1.150000e+03</td>\n",
       "    </tr>\n",
       "    <tr>\n",
       "      <th>max</th>\n",
       "      <td>1.482000e+05</td>\n",
       "    </tr>\n",
       "  </tbody>\n",
       "</table>\n",
       "</div>"
      ],
      "text/plain": [
       "               cash\n",
       "count  8.640000e+06\n",
       "mean   7.634015e+02\n",
       "std    8.836145e+02\n",
       "min    0.000000e+00\n",
       "25%    2.500000e+02\n",
       "50%    7.000000e+02\n",
       "75%    1.150000e+03\n",
       "max    1.482000e+05"
      ]
     },
     "execution_count": 8,
     "metadata": {},
     "output_type": "execute_result"
    }
   ],
   "source": [
    "df3.describe()"
   ]
  },
  {
   "cell_type": "code",
   "execution_count": 9,
   "id": "7cb71240",
   "metadata": {},
   "outputs": [
    {
     "data": {
      "text/plain": [
       "1150.0"
      ]
     },
     "execution_count": 9,
     "metadata": {},
     "output_type": "execute_result"
    }
   ],
   "source": [
    "1.150000 * 10 ** 3"
   ]
  },
  {
   "cell_type": "code",
   "execution_count": 10,
   "id": "96274e2b",
   "metadata": {},
   "outputs": [
    {
     "data": {
      "text/html": [
       "<div>\n",
       "<style scoped>\n",
       "    .dataframe tbody tr th:only-of-type {\n",
       "        vertical-align: middle;\n",
       "    }\n",
       "\n",
       "    .dataframe tbody tr th {\n",
       "        vertical-align: top;\n",
       "    }\n",
       "\n",
       "    .dataframe thead th {\n",
       "        text-align: right;\n",
       "    }\n",
       "</style>\n",
       "<table border=\"1\" class=\"dataframe\">\n",
       "  <thead>\n",
       "    <tr style=\"text-align: right;\">\n",
       "      <th></th>\n",
       "      <th>user_id</th>\n",
       "      <th>date</th>\n",
       "      <th>cash</th>\n",
       "    </tr>\n",
       "  </thead>\n",
       "  <tbody>\n",
       "    <tr>\n",
       "      <th>0</th>\n",
       "      <td>GGLSXL-U5BGGY</td>\n",
       "      <td>17.07.2021</td>\n",
       "      <td>200</td>\n",
       "    </tr>\n",
       "    <tr>\n",
       "      <th>1</th>\n",
       "      <td>DPWFFN-NL3VF8</td>\n",
       "      <td>16.07.2021</td>\n",
       "      <td>150</td>\n",
       "    </tr>\n",
       "    <tr>\n",
       "      <th>2</th>\n",
       "      <td>PASNNG-GVW4RR</td>\n",
       "      <td>11.07.2021</td>\n",
       "      <td>1100</td>\n",
       "    </tr>\n",
       "    <tr>\n",
       "      <th>3</th>\n",
       "      <td>4F0AW7-F40GY9</td>\n",
       "      <td>15.07.2021</td>\n",
       "      <td>1050</td>\n",
       "    </tr>\n",
       "    <tr>\n",
       "      <th>4</th>\n",
       "      <td>CEY6AF-YTSM4V</td>\n",
       "      <td>15.07.2021</td>\n",
       "      <td>150</td>\n",
       "    </tr>\n",
       "    <tr>\n",
       "      <th>...</th>\n",
       "      <td>...</td>\n",
       "      <td>...</td>\n",
       "      <td>...</td>\n",
       "    </tr>\n",
       "    <tr>\n",
       "      <th>8639994</th>\n",
       "      <td>R799ZE-9FIG3P</td>\n",
       "      <td>16.07.2021</td>\n",
       "      <td>0</td>\n",
       "    </tr>\n",
       "    <tr>\n",
       "      <th>8639996</th>\n",
       "      <td>A6ZAWD-VD21JU</td>\n",
       "      <td>15.07.2021</td>\n",
       "      <td>200</td>\n",
       "    </tr>\n",
       "    <tr>\n",
       "      <th>8639997</th>\n",
       "      <td>L9NUIR-HM22U9</td>\n",
       "      <td>15.07.2021</td>\n",
       "      <td>200</td>\n",
       "    </tr>\n",
       "    <tr>\n",
       "      <th>8639998</th>\n",
       "      <td>0A5AY6-NB4ZIS</td>\n",
       "      <td>15.07.2021</td>\n",
       "      <td>200</td>\n",
       "    </tr>\n",
       "    <tr>\n",
       "      <th>8639999</th>\n",
       "      <td>9UT53X-2N05KE</td>\n",
       "      <td>14.07.2021</td>\n",
       "      <td>100</td>\n",
       "    </tr>\n",
       "  </tbody>\n",
       "</table>\n",
       "<p>6330927 rows × 3 columns</p>\n",
       "</div>"
      ],
      "text/plain": [
       "               user_id        date  cash\n",
       "0        GGLSXL-U5BGGY  17.07.2021   200\n",
       "1        DPWFFN-NL3VF8  16.07.2021   150\n",
       "2        PASNNG-GVW4RR  11.07.2021  1100\n",
       "3        4F0AW7-F40GY9  15.07.2021  1050\n",
       "4        CEY6AF-YTSM4V  15.07.2021   150\n",
       "...                ...         ...   ...\n",
       "8639994  R799ZE-9FIG3P  16.07.2021     0\n",
       "8639996  A6ZAWD-VD21JU  15.07.2021   200\n",
       "8639997  L9NUIR-HM22U9  15.07.2021   200\n",
       "8639998  0A5AY6-NB4ZIS  15.07.2021   200\n",
       "8639999  9UT53X-2N05KE  14.07.2021   100\n",
       "\n",
       "[6330927 rows x 3 columns]"
      ]
     },
     "execution_count": 10,
     "metadata": {},
     "output_type": "execute_result"
    }
   ],
   "source": [
    "df3_clear = df3[df3['cash'] < 1150]\n",
    "df3_clear"
   ]
  },
  {
   "cell_type": "code",
   "execution_count": 11,
   "id": "9f3c28fe",
   "metadata": {},
   "outputs": [],
   "source": [
    "df2.drop_duplicates(inplace=True)"
   ]
  },
  {
   "cell_type": "code",
   "execution_count": 12,
   "id": "e79a3efa",
   "metadata": {},
   "outputs": [],
   "source": [
    "df1.drop_duplicates(inplace=True)"
   ]
  },
  {
   "cell_type": "code",
   "execution_count": 13,
   "id": "9128feb5",
   "metadata": {},
   "outputs": [
    {
     "name": "stderr",
     "output_type": "stream",
     "text": [
      "C:\\Users\\Admin\\AppData\\Local\\Temp\\ipykernel_5036\\574377624.py:1: SettingWithCopyWarning: \n",
      "A value is trying to be set on a copy of a slice from a DataFrame\n",
      "\n",
      "See the caveats in the documentation: https://pandas.pydata.org/pandas-docs/stable/user_guide/indexing.html#returning-a-view-versus-a-copy\n",
      "  df3_clear.drop_duplicates(inplace=True)\n"
     ]
    }
   ],
   "source": [
    "df3_clear.drop_duplicates(inplace=True)"
   ]
  },
  {
   "cell_type": "code",
   "execution_count": 14,
   "id": "5d30f859",
   "metadata": {},
   "outputs": [
    {
     "data": {
      "text/html": [
       "<div>\n",
       "<style scoped>\n",
       "    .dataframe tbody tr th:only-of-type {\n",
       "        vertical-align: middle;\n",
       "    }\n",
       "\n",
       "    .dataframe tbody tr th {\n",
       "        vertical-align: top;\n",
       "    }\n",
       "\n",
       "    .dataframe thead th {\n",
       "        text-align: right;\n",
       "    }\n",
       "</style>\n",
       "<table border=\"1\" class=\"dataframe\">\n",
       "  <thead>\n",
       "    <tr style=\"text-align: right;\">\n",
       "      <th></th>\n",
       "      <th>user_id</th>\n",
       "      <th>date</th>\n",
       "      <th>cash</th>\n",
       "    </tr>\n",
       "  </thead>\n",
       "  <tbody>\n",
       "    <tr>\n",
       "      <th>0</th>\n",
       "      <td>GGLSXL-U5BGGY</td>\n",
       "      <td>17.07.2021</td>\n",
       "      <td>200</td>\n",
       "    </tr>\n",
       "    <tr>\n",
       "      <th>1</th>\n",
       "      <td>DPWFFN-NL3VF8</td>\n",
       "      <td>16.07.2021</td>\n",
       "      <td>150</td>\n",
       "    </tr>\n",
       "    <tr>\n",
       "      <th>2</th>\n",
       "      <td>PASNNG-GVW4RR</td>\n",
       "      <td>11.07.2021</td>\n",
       "      <td>1100</td>\n",
       "    </tr>\n",
       "    <tr>\n",
       "      <th>3</th>\n",
       "      <td>4F0AW7-F40GY9</td>\n",
       "      <td>15.07.2021</td>\n",
       "      <td>1050</td>\n",
       "    </tr>\n",
       "    <tr>\n",
       "      <th>4</th>\n",
       "      <td>CEY6AF-YTSM4V</td>\n",
       "      <td>15.07.2021</td>\n",
       "      <td>150</td>\n",
       "    </tr>\n",
       "    <tr>\n",
       "      <th>...</th>\n",
       "      <td>...</td>\n",
       "      <td>...</td>\n",
       "      <td>...</td>\n",
       "    </tr>\n",
       "    <tr>\n",
       "      <th>8639994</th>\n",
       "      <td>R799ZE-9FIG3P</td>\n",
       "      <td>16.07.2021</td>\n",
       "      <td>0</td>\n",
       "    </tr>\n",
       "    <tr>\n",
       "      <th>8639996</th>\n",
       "      <td>A6ZAWD-VD21JU</td>\n",
       "      <td>15.07.2021</td>\n",
       "      <td>200</td>\n",
       "    </tr>\n",
       "    <tr>\n",
       "      <th>8639997</th>\n",
       "      <td>L9NUIR-HM22U9</td>\n",
       "      <td>15.07.2021</td>\n",
       "      <td>200</td>\n",
       "    </tr>\n",
       "    <tr>\n",
       "      <th>8639998</th>\n",
       "      <td>0A5AY6-NB4ZIS</td>\n",
       "      <td>15.07.2021</td>\n",
       "      <td>200</td>\n",
       "    </tr>\n",
       "    <tr>\n",
       "      <th>8639999</th>\n",
       "      <td>9UT53X-2N05KE</td>\n",
       "      <td>14.07.2021</td>\n",
       "      <td>100</td>\n",
       "    </tr>\n",
       "  </tbody>\n",
       "</table>\n",
       "<p>6330927 rows × 3 columns</p>\n",
       "</div>"
      ],
      "text/plain": [
       "               user_id        date  cash\n",
       "0        GGLSXL-U5BGGY  17.07.2021   200\n",
       "1        DPWFFN-NL3VF8  16.07.2021   150\n",
       "2        PASNNG-GVW4RR  11.07.2021  1100\n",
       "3        4F0AW7-F40GY9  15.07.2021  1050\n",
       "4        CEY6AF-YTSM4V  15.07.2021   150\n",
       "...                ...         ...   ...\n",
       "8639994  R799ZE-9FIG3P  16.07.2021     0\n",
       "8639996  A6ZAWD-VD21JU  15.07.2021   200\n",
       "8639997  L9NUIR-HM22U9  15.07.2021   200\n",
       "8639998  0A5AY6-NB4ZIS  15.07.2021   200\n",
       "8639999  9UT53X-2N05KE  14.07.2021   100\n",
       "\n",
       "[6330927 rows x 3 columns]"
      ]
     },
     "execution_count": 14,
     "metadata": {},
     "output_type": "execute_result"
    }
   ],
   "source": [
    "df3_clear"
   ]
  },
  {
   "cell_type": "code",
   "execution_count": 15,
   "id": "7a805eb1",
   "metadata": {},
   "outputs": [
    {
     "name": "stderr",
     "output_type": "stream",
     "text": [
      "C:\\Users\\Admin\\AppData\\Local\\Temp\\ipykernel_5036\\3325163520.py:1: SettingWithCopyWarning: \n",
      "A value is trying to be set on a copy of a slice from a DataFrame\n",
      "\n",
      "See the caveats in the documentation: https://pandas.pydata.org/pandas-docs/stable/user_guide/indexing.html#returning-a-view-versus-a-copy\n",
      "  df5_clear.drop_duplicates(inplace=True)\n"
     ]
    }
   ],
   "source": [
    "df5_clear.drop_duplicates(inplace=True)"
   ]
  },
  {
   "cell_type": "code",
   "execution_count": 16,
   "id": "d2cf05e9",
   "metadata": {},
   "outputs": [
    {
     "data": {
      "text/html": [
       "<div>\n",
       "<style scoped>\n",
       "    .dataframe tbody tr th:only-of-type {\n",
       "        vertical-align: middle;\n",
       "    }\n",
       "\n",
       "    .dataframe tbody tr th {\n",
       "        vertical-align: top;\n",
       "    }\n",
       "\n",
       "    .dataframe thead th {\n",
       "        text-align: right;\n",
       "    }\n",
       "</style>\n",
       "<table border=\"1\" class=\"dataframe\">\n",
       "  <thead>\n",
       "    <tr style=\"text-align: right;\">\n",
       "      <th></th>\n",
       "      <th>user_id</th>\n",
       "      <th>cheaters</th>\n",
       "    </tr>\n",
       "  </thead>\n",
       "  <tbody>\n",
       "    <tr>\n",
       "      <th>0</th>\n",
       "      <td>TWLWB9-L19SYJ</td>\n",
       "      <td>0</td>\n",
       "    </tr>\n",
       "    <tr>\n",
       "      <th>1</th>\n",
       "      <td>SD0L4U-1JG4WN</td>\n",
       "      <td>0</td>\n",
       "    </tr>\n",
       "    <tr>\n",
       "      <th>2</th>\n",
       "      <td>QZVG35-P8JKNU</td>\n",
       "      <td>0</td>\n",
       "    </tr>\n",
       "    <tr>\n",
       "      <th>3</th>\n",
       "      <td>S2VBV4-ZKBHI6</td>\n",
       "      <td>0</td>\n",
       "    </tr>\n",
       "    <tr>\n",
       "      <th>4</th>\n",
       "      <td>DDGKMQ-45SP8R</td>\n",
       "      <td>0</td>\n",
       "    </tr>\n",
       "    <tr>\n",
       "      <th>...</th>\n",
       "      <td>...</td>\n",
       "      <td>...</td>\n",
       "    </tr>\n",
       "    <tr>\n",
       "      <th>6746711</th>\n",
       "      <td>H64167-X6WL6M</td>\n",
       "      <td>0</td>\n",
       "    </tr>\n",
       "    <tr>\n",
       "      <th>6761784</th>\n",
       "      <td>RPT9IY-P0M6QC</td>\n",
       "      <td>0</td>\n",
       "    </tr>\n",
       "    <tr>\n",
       "      <th>6804930</th>\n",
       "      <td>TOMOLF-K9N5LJ</td>\n",
       "      <td>0</td>\n",
       "    </tr>\n",
       "    <tr>\n",
       "      <th>6979662</th>\n",
       "      <td>C960OB-19O8OT</td>\n",
       "      <td>0</td>\n",
       "    </tr>\n",
       "    <tr>\n",
       "      <th>7001267</th>\n",
       "      <td>28DENA-HWECBB</td>\n",
       "      <td>0</td>\n",
       "    </tr>\n",
       "  </tbody>\n",
       "</table>\n",
       "<p>1079647 rows × 2 columns</p>\n",
       "</div>"
      ],
      "text/plain": [
       "               user_id  cheaters\n",
       "0        TWLWB9-L19SYJ         0\n",
       "1        SD0L4U-1JG4WN         0\n",
       "2        QZVG35-P8JKNU         0\n",
       "3        S2VBV4-ZKBHI6         0\n",
       "4        DDGKMQ-45SP8R         0\n",
       "...                ...       ...\n",
       "6746711  H64167-X6WL6M         0\n",
       "6761784  RPT9IY-P0M6QC         0\n",
       "6804930  TOMOLF-K9N5LJ         0\n",
       "6979662  C960OB-19O8OT         0\n",
       "7001267  28DENA-HWECBB         0\n",
       "\n",
       "[1079647 rows x 2 columns]"
      ]
     },
     "execution_count": 16,
     "metadata": {},
     "output_type": "execute_result"
    }
   ],
   "source": [
    "df5_clear"
   ]
  },
  {
   "cell_type": "code",
   "execution_count": 17,
   "id": "a301fa83",
   "metadata": {},
   "outputs": [],
   "source": [
    "merged = pd.merge(df5_clear, df1)"
   ]
  },
  {
   "cell_type": "code",
   "execution_count": 18,
   "id": "e16112f0",
   "metadata": {},
   "outputs": [],
   "source": [
    "merged = pd.merge(merged, df2)"
   ]
  },
  {
   "cell_type": "code",
   "execution_count": 19,
   "id": "caa1b715",
   "metadata": {},
   "outputs": [
    {
     "name": "stderr",
     "output_type": "stream",
     "text": [
      "C:\\Users\\Admin\\AppData\\Local\\Temp\\ipykernel_5036\\3041276352.py:1: FutureWarning: The default value of numeric_only in DataFrameGroupBy.sum is deprecated. In a future version, numeric_only will default to False. Either specify numeric_only or select only columns which should be valid for the function.\n",
      "  df3_clear = df3_clear.groupby('user_id').sum()\n"
     ]
    }
   ],
   "source": [
    "df3_clear = df3_clear.groupby('user_id').sum()"
   ]
  },
  {
   "cell_type": "code",
   "execution_count": 20,
   "id": "163c5118",
   "metadata": {},
   "outputs": [
    {
     "name": "stderr",
     "output_type": "stream",
     "text": [
      "C:\\Users\\Admin\\AppData\\Local\\Temp\\ipykernel_5036\\2459434604.py:1: FutureWarning: The default value of numeric_only in DataFrameGroupBy.sum is deprecated. In a future version, numeric_only will default to False. Either specify numeric_only or select only columns which should be valid for the function.\n",
      "  df4 = df4.groupby('user_id').sum()\n"
     ]
    }
   ],
   "source": [
    "df4 = df4.groupby('user_id').sum()"
   ]
  },
  {
   "cell_type": "code",
   "execution_count": 21,
   "id": "0fe8482e",
   "metadata": {},
   "outputs": [],
   "source": [
    "merged = pd.merge(merged, df3_clear, on='user_id', how='outer')"
   ]
  },
  {
   "cell_type": "code",
   "execution_count": 22,
   "id": "ea852be7",
   "metadata": {},
   "outputs": [],
   "source": [
    "merged = pd.merge(merged, df4, on='user_id', how='outer')"
   ]
  },
  {
   "cell_type": "code",
   "execution_count": 23,
   "id": "c70d287b",
   "metadata": {},
   "outputs": [
    {
     "name": "stdout",
     "output_type": "stream",
     "text": [
      "<class 'pandas.core.frame.DataFrame'>\n",
      "Int64Index: 1080000 entries, 0 to 1079999\n",
      "Data columns (total 6 columns):\n",
      " #   Column    Non-Null Count    Dtype  \n",
      "---  ------    --------------    -----  \n",
      " 0   user_id   1080000 non-null  object \n",
      " 1   cheaters  1079647 non-null  float64\n",
      " 2   group     1079647 non-null  object \n",
      " 3   platform  1079647 non-null  object \n",
      " 4   cash      1079725 non-null  float64\n",
      " 5   money     1080000 non-null  float64\n",
      "dtypes: float64(3), object(3)\n",
      "memory usage: 57.7+ MB\n"
     ]
    }
   ],
   "source": [
    "merged.info()"
   ]
  },
  {
   "cell_type": "code",
   "execution_count": 24,
   "id": "94f6641e",
   "metadata": {},
   "outputs": [
    {
     "data": {
      "text/html": [
       "<div>\n",
       "<style scoped>\n",
       "    .dataframe tbody tr th:only-of-type {\n",
       "        vertical-align: middle;\n",
       "    }\n",
       "\n",
       "    .dataframe tbody tr th {\n",
       "        vertical-align: top;\n",
       "    }\n",
       "\n",
       "    .dataframe thead th {\n",
       "        text-align: right;\n",
       "    }\n",
       "</style>\n",
       "<table border=\"1\" class=\"dataframe\">\n",
       "  <thead>\n",
       "    <tr style=\"text-align: right;\">\n",
       "      <th></th>\n",
       "      <th>user_id</th>\n",
       "      <th>cheaters</th>\n",
       "      <th>group</th>\n",
       "      <th>platform</th>\n",
       "      <th>cash</th>\n",
       "      <th>money</th>\n",
       "    </tr>\n",
       "  </thead>\n",
       "  <tbody>\n",
       "    <tr>\n",
       "      <th>0</th>\n",
       "      <td>TWLWB9-L19SYJ</td>\n",
       "      <td>0.0</td>\n",
       "      <td>test</td>\n",
       "      <td>PS4</td>\n",
       "      <td>2850.0</td>\n",
       "      <td>7.94</td>\n",
       "    </tr>\n",
       "    <tr>\n",
       "      <th>1</th>\n",
       "      <td>SD0L4U-1JG4WN</td>\n",
       "      <td>0.0</td>\n",
       "      <td>control</td>\n",
       "      <td>PC</td>\n",
       "      <td>1600.0</td>\n",
       "      <td>1.98</td>\n",
       "    </tr>\n",
       "    <tr>\n",
       "      <th>2</th>\n",
       "      <td>QZVG35-P8JKNU</td>\n",
       "      <td>0.0</td>\n",
       "      <td>test</td>\n",
       "      <td>PS4</td>\n",
       "      <td>1000.0</td>\n",
       "      <td>3.96</td>\n",
       "    </tr>\n",
       "    <tr>\n",
       "      <th>3</th>\n",
       "      <td>S2VBV4-ZKBHI6</td>\n",
       "      <td>0.0</td>\n",
       "      <td>test</td>\n",
       "      <td>PC</td>\n",
       "      <td>2300.0</td>\n",
       "      <td>7.95</td>\n",
       "    </tr>\n",
       "    <tr>\n",
       "      <th>4</th>\n",
       "      <td>DDGKMQ-45SP8R</td>\n",
       "      <td>0.0</td>\n",
       "      <td>control</td>\n",
       "      <td>XBox</td>\n",
       "      <td>3600.0</td>\n",
       "      <td>6.94</td>\n",
       "    </tr>\n",
       "    <tr>\n",
       "      <th>...</th>\n",
       "      <td>...</td>\n",
       "      <td>...</td>\n",
       "      <td>...</td>\n",
       "      <td>...</td>\n",
       "      <td>...</td>\n",
       "      <td>...</td>\n",
       "    </tr>\n",
       "    <tr>\n",
       "      <th>1079995</th>\n",
       "      <td>ZQDH19-8TSYHQ</td>\n",
       "      <td>NaN</td>\n",
       "      <td>NaN</td>\n",
       "      <td>NaN</td>\n",
       "      <td>NaN</td>\n",
       "      <td>0.00</td>\n",
       "    </tr>\n",
       "    <tr>\n",
       "      <th>1079996</th>\n",
       "      <td>ZQXBU3-QQY4YE</td>\n",
       "      <td>NaN</td>\n",
       "      <td>NaN</td>\n",
       "      <td>NaN</td>\n",
       "      <td>NaN</td>\n",
       "      <td>0.00</td>\n",
       "    </tr>\n",
       "    <tr>\n",
       "      <th>1079997</th>\n",
       "      <td>ZWGYC2-P1BE96</td>\n",
       "      <td>NaN</td>\n",
       "      <td>NaN</td>\n",
       "      <td>NaN</td>\n",
       "      <td>NaN</td>\n",
       "      <td>0.00</td>\n",
       "    </tr>\n",
       "    <tr>\n",
       "      <th>1079998</th>\n",
       "      <td>ZXPGD5-0WQBUI</td>\n",
       "      <td>NaN</td>\n",
       "      <td>NaN</td>\n",
       "      <td>NaN</td>\n",
       "      <td>NaN</td>\n",
       "      <td>0.00</td>\n",
       "    </tr>\n",
       "    <tr>\n",
       "      <th>1079999</th>\n",
       "      <td>ZYSWTT-EY3CXP</td>\n",
       "      <td>NaN</td>\n",
       "      <td>NaN</td>\n",
       "      <td>NaN</td>\n",
       "      <td>NaN</td>\n",
       "      <td>0.00</td>\n",
       "    </tr>\n",
       "  </tbody>\n",
       "</table>\n",
       "<p>1080000 rows × 6 columns</p>\n",
       "</div>"
      ],
      "text/plain": [
       "               user_id  cheaters    group platform    cash  money\n",
       "0        TWLWB9-L19SYJ       0.0     test      PS4  2850.0   7.94\n",
       "1        SD0L4U-1JG4WN       0.0  control       PC  1600.0   1.98\n",
       "2        QZVG35-P8JKNU       0.0     test      PS4  1000.0   3.96\n",
       "3        S2VBV4-ZKBHI6       0.0     test       PC  2300.0   7.95\n",
       "4        DDGKMQ-45SP8R       0.0  control     XBox  3600.0   6.94\n",
       "...                ...       ...      ...      ...     ...    ...\n",
       "1079995  ZQDH19-8TSYHQ       NaN      NaN      NaN     NaN   0.00\n",
       "1079996  ZQXBU3-QQY4YE       NaN      NaN      NaN     NaN   0.00\n",
       "1079997  ZWGYC2-P1BE96       NaN      NaN      NaN     NaN   0.00\n",
       "1079998  ZXPGD5-0WQBUI       NaN      NaN      NaN     NaN   0.00\n",
       "1079999  ZYSWTT-EY3CXP       NaN      NaN      NaN     NaN   0.00\n",
       "\n",
       "[1080000 rows x 6 columns]"
      ]
     },
     "execution_count": 24,
     "metadata": {},
     "output_type": "execute_result"
    }
   ],
   "source": [
    "merged"
   ]
  },
  {
   "cell_type": "code",
   "execution_count": 25,
   "id": "430633fb",
   "metadata": {},
   "outputs": [
    {
     "name": "stdout",
     "output_type": "stream",
     "text": [
      "       cheaters           cash          money\n",
      "count  539474.0  539396.000000  539474.000000\n",
      "mean        0.0    2657.783706       6.160425\n",
      "std         0.0    1076.276137       1.913545\n",
      "min         0.0       0.000000       0.000000\n",
      "50%         0.0    2650.000000       5.950000\n",
      "75%         0.0    3400.000000       6.960000\n",
      "95%         0.0    4500.000000       8.960000\n",
      "max         0.0    7650.000000      16.930000\n"
     ]
    }
   ],
   "source": [
    "grouptest = merged[merged['group'] == 'test']\n",
    "print(grouptest.describe(percentiles=[.50, .75, .95]))"
   ]
  },
  {
   "cell_type": "code",
   "execution_count": 26,
   "id": "14daa8e8",
   "metadata": {},
   "outputs": [
    {
     "name": "stdout",
     "output_type": "stream",
     "text": [
      "       cheaters           cash          money\n",
      "count  540173.0  540102.000000  540173.000000\n",
      "mean        0.0    2797.704878       5.827514\n",
      "std         0.0    1079.753948       1.876359\n",
      "min         0.0       0.000000       0.000000\n",
      "50%         0.0    2750.000000       5.950000\n",
      "75%         0.0    3550.000000       6.950000\n",
      "95%         0.0    4600.000000       8.940000\n",
      "max         0.0    7550.000000      15.930000\n"
     ]
    }
   ],
   "source": [
    "groupcontrol = merged[merged['group'] == 'control']\n",
    "print(groupcontrol.describe(percentiles=[.50, .75, .95]))"
   ]
  },
  {
   "cell_type": "code",
   "execution_count": 27,
   "id": "88b163d7",
   "metadata": {},
   "outputs": [],
   "source": [
    "#mean по группам test и control получились примерно схожими, с малой погрешностью"
   ]
  },
  {
   "cell_type": "code",
   "execution_count": 28,
   "id": "e04edae0",
   "metadata": {},
   "outputs": [
    {
     "name": "stdout",
     "output_type": "stream",
     "text": [
      "(548.3212407960336, 4767.246171643065)\n"
     ]
    }
   ],
   "source": [
    "#Доверительный интервал по тратам внутриигровой валюты группы test\n",
    "def my_norm_confidence(grouptest=grouptest, column = \"cash\", alpha = 0.95):\n",
    "    interval = stats.norm.interval(alpha, loc=grouptest[column].mean(), scale = grouptest[column].std())\n",
    "    return interval\n",
    "\n",
    "confidencecashtest = my_norm_confidence()\n",
    "print(confidencecashtest)"
   ]
  },
  {
   "cell_type": "code",
   "execution_count": 29,
   "id": "1513e8a3",
   "metadata": {},
   "outputs": [
    {
     "name": "stdout",
     "output_type": "stream",
     "text": [
      "(2.409946309269707, 9.910903926330157)\n"
     ]
    }
   ],
   "source": [
    "#Доверительный интервал по платежам группы test\n",
    "def my_norm_confidence(grouptest=grouptest, column = \"money\", alpha = 0.95):\n",
    "    interval = stats.norm.interval(alpha, loc=grouptest[column].mean(), scale = grouptest[column].std())\n",
    "    return interval\n",
    "\n",
    "confidencemoneytest = my_norm_confidence()\n",
    "print(confidencemoneytest)"
   ]
  },
  {
   "cell_type": "code",
   "execution_count": 30,
   "id": "2ef1b947",
   "metadata": {},
   "outputs": [
    {
     "name": "stdout",
     "output_type": "stream",
     "text": [
      "(681.4260283957015, 4913.983727539289)\n"
     ]
    }
   ],
   "source": [
    "#Доверительный интервал по тратам внутриигровой валюты группы control\n",
    "def my_norm_confidence(groupcontrol=groupcontrol, column = \"cash\", alpha = 0.95):\n",
    "    interval = stats.norm.interval(alpha, loc=groupcontrol[column].mean(), scale = groupcontrol[column].std())\n",
    "    return interval\n",
    "\n",
    "confidencecashcontrol = my_norm_confidence()\n",
    "print(confidencecashcontrol)"
   ]
  },
  {
   "cell_type": "code",
   "execution_count": 31,
   "id": "ca20aa04",
   "metadata": {},
   "outputs": [
    {
     "name": "stdout",
     "output_type": "stream",
     "text": [
      "(2.14991743524198, 9.50511082422304)\n"
     ]
    }
   ],
   "source": [
    "#Доверительный интервал по платежам группы control\n",
    "def my_norm_confidence(groupcontrol=groupcontrol, column = \"money\", alpha = 0.95):\n",
    "    interval = stats.norm.interval(alpha, loc=groupcontrol[column].mean(), scale = groupcontrol[column].std())\n",
    "    return interval\n",
    "\n",
    "confidencemoneycontrol = my_norm_confidence()\n",
    "print(confidencemoneycontrol)"
   ]
  },
  {
   "cell_type": "code",
   "execution_count": 32,
   "id": "45cfae0a",
   "metadata": {},
   "outputs": [],
   "source": [
    "#Показатели доверительных интервалов по контрольной и тестовой группе также примерно схожи, с малой погрешностью"
   ]
  },
  {
   "cell_type": "code",
   "execution_count": 33,
   "id": "f5a6685c",
   "metadata": {},
   "outputs": [
    {
     "name": "stdout",
     "output_type": "stream",
     "text": [
      "       cheaters           cash          money\n",
      "count  359896.0  359747.000000  359896.000000\n",
      "mean        0.0    2699.963863       5.952005\n",
      "std         0.0    1087.138119       1.907779\n",
      "min         0.0       0.000000       0.000000\n",
      "50%         0.0    2650.000000       5.950000\n",
      "75%         0.0    3450.000000       6.950000\n",
      "95%         0.0    4550.000000       8.950000\n",
      "max         0.0    7400.000000      16.930000\n"
     ]
    }
   ],
   "source": [
    "pc = merged[merged['platform'] == 'PC']\n",
    "print(pc.describe(percentiles=[.50, .75, .95]))"
   ]
  },
  {
   "cell_type": "code",
   "execution_count": 34,
   "id": "a9893f12",
   "metadata": {},
   "outputs": [
    {
     "name": "stdout",
     "output_type": "stream",
     "text": [
      "       cheaters           cash          money\n",
      "count  360532.0  360532.000000  360532.000000\n",
      "mean        0.0    2702.862714       6.118128\n",
      "std         0.0    1072.731470       1.908655\n",
      "min         0.0       0.000000       0.000000\n",
      "50%         0.0    2650.000000       5.950000\n",
      "75%         0.0    3400.000000       6.960000\n",
      "95%         0.0    4500.000000       8.960000\n",
      "max         0.0    7550.000000      15.930000\n"
     ]
    }
   ],
   "source": [
    "xbox = merged[merged['platform'] == 'XBox']\n",
    "print(xbox.describe(percentiles=[.50, .75, .95]))"
   ]
  },
  {
   "cell_type": "code",
   "execution_count": 35,
   "id": "931a0907",
   "metadata": {},
   "outputs": [
    {
     "name": "stdout",
     "output_type": "stream",
     "text": [
      "       cheaters           cash          money\n",
      "count  359219.0  359219.000000  359219.000000\n",
      "mean        0.0    2780.675577       5.911077\n",
      "std         0.0    1079.014360       1.884076\n",
      "min         0.0       0.000000       0.000000\n",
      "50%         0.0    2750.000000       5.950000\n",
      "75%         0.0    3500.000000       6.950000\n",
      "95%         0.0    4600.000000       8.950000\n",
      "max         0.0    7650.000000      15.940000\n"
     ]
    }
   ],
   "source": [
    "ps4 = merged[merged['platform'] == 'PS4']\n",
    "print(ps4.describe(percentiles=[.50, .75, .95]))"
   ]
  },
  {
   "cell_type": "code",
   "execution_count": 36,
   "id": "842d74fd",
   "metadata": {},
   "outputs": [],
   "source": [
    "#mean по платформам также получились примерно схожими, с легкой погрешностью"
   ]
  },
  {
   "cell_type": "code",
   "execution_count": 37,
   "id": "6d816243",
   "metadata": {},
   "outputs": [
    {
     "name": "stdout",
     "output_type": "stream",
     "text": [
      "(569.2123040121528, 4830.715422973757)\n"
     ]
    }
   ],
   "source": [
    "#Доверительный интервал по тратам внутриигровой валюты платформы PC\n",
    "def my_norm_confidence(pc=pc, column = \"cash\", alpha = 0.95):\n",
    "    interval = stats.norm.interval(alpha, loc=pc[column].mean(), scale = pc[column].std())\n",
    "    return interval\n",
    "\n",
    "confidencecashpc = my_norm_confidence()\n",
    "print(confidencecashpc)"
   ]
  },
  {
   "cell_type": "code",
   "execution_count": 38,
   "id": "1d68a22b",
   "metadata": {},
   "outputs": [
    {
     "name": "stdout",
     "output_type": "stream",
     "text": [
      "(2.212827360191193, 9.69118346515835)\n"
     ]
    }
   ],
   "source": [
    "#Доверительный интервал по платежам платформы PC\n",
    "def my_norm_confidence(pc=pc, column = \"money\", alpha = 0.95):\n",
    "    interval = stats.norm.interval(alpha, loc=pc[column].mean(), scale = pc[column].std())\n",
    "    return interval\n",
    "\n",
    "confidencemoneypc = my_norm_confidence()\n",
    "print(confidencemoneypc)"
   ]
  },
  {
   "cell_type": "code",
   "execution_count": 39,
   "id": "9289e4a1",
   "metadata": {},
   "outputs": [
    {
     "name": "stdout",
     "output_type": "stream",
     "text": [
      "(600.3476671241638, 4805.37776085449)\n"
     ]
    }
   ],
   "source": [
    "#Доверительный интервал по тратам внутриигровой валюты платформы Xbox\n",
    "def my_norm_confidence(xbox=xbox, column = \"cash\", alpha = 0.95):\n",
    "    interval = stats.norm.interval(alpha, loc=xbox[column].mean(), scale = xbox[column].std())\n",
    "    return interval\n",
    "\n",
    "confidencecashxbox = my_norm_confidence()\n",
    "print(confidencecashxbox)"
   ]
  },
  {
   "cell_type": "code",
   "execution_count": 40,
   "id": "493683bf",
   "metadata": {},
   "outputs": [
    {
     "name": "stdout",
     "output_type": "stream",
     "text": [
      "(2.3772321287434512, 9.859024014955306)\n"
     ]
    }
   ],
   "source": [
    "#Доверительный интервал по платежам платформы XBox\n",
    "def my_norm_confidence(xbox=xbox, column = \"money\", alpha = 0.95):\n",
    "    interval = stats.norm.interval(alpha, loc=xbox[column].mean(), scale = xbox[column].std())\n",
    "    return interval\n",
    "\n",
    "confidencemoneyxbox = my_norm_confidence()\n",
    "print(confidencemoneyxbox)"
   ]
  },
  {
   "cell_type": "code",
   "execution_count": 41,
   "id": "0981128a",
   "metadata": {},
   "outputs": [
    {
     "name": "stdout",
     "output_type": "stream",
     "text": [
      "(665.8462916391336, 4895.504861835488)\n"
     ]
    }
   ],
   "source": [
    "#Доверительный интервал по тратам внутриигровой валюты платформы PS4\n",
    "def my_norm_confidence(ps4=ps4, column = \"cash\", alpha = 0.95):\n",
    "    interval = stats.norm.interval(alpha, loc=ps4[column].mean(), scale = ps4[column].std())\n",
    "    return interval\n",
    "\n",
    "confidencecashps4 = my_norm_confidence()\n",
    "print(confidencecashps4)"
   ]
  },
  {
   "cell_type": "code",
   "execution_count": 42,
   "id": "45abe9f4",
   "metadata": {},
   "outputs": [
    {
     "name": "stdout",
     "output_type": "stream",
     "text": [
      "(2.2183560104774536, 9.60379749476586)\n"
     ]
    }
   ],
   "source": [
    "#Доверительный интервал по платежам платформы PS4\n",
    "def my_norm_confidence(ps4=ps4, column = \"money\", alpha = 0.95):\n",
    "    interval = stats.norm.interval(alpha, loc=ps4[column].mean(), scale = ps4[column].std())\n",
    "    return interval\n",
    "\n",
    "confidencemoneyps4 = my_norm_confidence()\n",
    "print(confidencemoneyps4)"
   ]
  },
  {
   "cell_type": "code",
   "execution_count": 43,
   "id": "5b64d167",
   "metadata": {},
   "outputs": [],
   "source": [
    "#Доверительные интервалы по платформам схожи, однако, PS4 показала наиболее высокие траты внутриигровой валюты, однако \n",
    "#наиболее платежеспособными оказались пользователи платформы XBox"
   ]
  },
  {
   "cell_type": "code",
   "execution_count": 43,
   "id": "529ed0b5",
   "metadata": {},
   "outputs": [],
   "source": [
    "merged.to_csv('final.csv', sep =',', index_label = 'index')"
   ]
  }
 ],
 "metadata": {
  "kernelspec": {
   "display_name": "Python 3 (ipykernel)",
   "language": "python",
   "name": "python3"
  },
  "language_info": {
   "codemirror_mode": {
    "name": "ipython",
    "version": 3
   },
   "file_extension": ".py",
   "mimetype": "text/x-python",
   "name": "python",
   "nbconvert_exporter": "python",
   "pygments_lexer": "ipython3",
   "version": "3.11.4"
  }
 },
 "nbformat": 4,
 "nbformat_minor": 5
}
